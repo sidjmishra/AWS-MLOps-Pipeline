{
 "cells": [
  {
   "cell_type": "code",
   "execution_count": 3,
   "metadata": {},
   "outputs": [],
   "source": [
    "import sagemaker\n",
    "import boto3"
   ]
  },
  {
   "cell_type": "code",
   "execution_count": 4,
   "metadata": {},
   "outputs": [],
   "source": [
    "region = sagemaker.Session().boto_region_name\n",
    "\n",
    "boto3.setup_default_session(region_name = region)\n",
    "boto_session = boto3.Session(region_name = region)\n",
    "\n",
    "s3_client = boto3.client(\"s3\", region_name = region)\n",
    "\n",
    "sagemaker_boto_client = boto_session.client(\"sagemaker\")\n",
    "sagemaker_session = sagemaker.session.Session(\n",
    "    boto_session = boto_session, sagemaker_client = sagemaker_boto_client\n",
    ")\n",
    "account_id = boto3.client(\"sts\").get_caller_identity()[\"Account\"]\n",
    "sagemaker_role = sagemaker.get_execution_role()"
   ]
  },
  {
   "cell_type": "code",
   "execution_count": 5,
   "metadata": {},
   "outputs": [],
   "source": [
    "bucket = \"BUCKET-NAME\"\n",
    "prefix = \"mlops/predictive-maintenance\""
   ]
  },
  {
   "cell_type": "markdown",
   "metadata": {},
   "source": [
    "### CSV Test Data with headers"
   ]
  },
  {
   "cell_type": "code",
   "execution_count": 6,
   "metadata": {},
   "outputs": [],
   "source": [
    "import pandas as pd"
   ]
  },
  {
   "cell_type": "code",
   "execution_count": 7,
   "metadata": {},
   "outputs": [],
   "source": [
    "test_data = pd.read_csv(\"datasets/train-test/test.csv\")\n",
    "test_data = test_data.drop(\"failure\", axis = 1)\n",
    "test_data.to_csv(\"datasets/train-test/test_data_with_headers.csv\", index = False)"
   ]
  },
  {
   "cell_type": "markdown",
   "metadata": {},
   "source": [
    "### Model Monitor Object"
   ]
  },
  {
   "cell_type": "code",
   "execution_count": 8,
   "metadata": {},
   "outputs": [],
   "source": [
    "from sagemaker.model_monitor import DefaultModelMonitor\n",
    "from sagemaker.model_monitor.dataset_format import DatasetFormat\n",
    "\n",
    "test_data_drift_monitor = DefaultModelMonitor(\n",
    "    role = sagemaker_role,\n",
    "    instance_count = 1,\n",
    "    instance_type = \"ml.m5.xlarge\",\n",
    "    volume_size_in_gb = 1,\n",
    "    max_runtime_in_seconds = 360,\n",
    "    sagemaker_session = sagemaker_session,\n",
    ")"
   ]
  },
  {
   "cell_type": "markdown",
   "metadata": {},
   "source": [
    "### Suggest Baselining"
   ]
  },
  {
   "cell_type": "code",
   "execution_count": null,
   "metadata": {
    "collapsed": true,
    "jupyter": {
     "outputs_hidden": true
    }
   },
   "outputs": [],
   "source": [
    "from datetime import datetime\n",
    "\n",
    "baseline_data = \"datasets/train-test/test_data_with_headers.csv\"\n",
    "baseline_results_uri = f\"s3://{bucket}/{prefix}/data/baselining/test-header-data-results\"\n",
    "baseline_job_name = f\"PdM-Baseline-Job-Data-Monitor-{datetime.utcnow():%Y-%m-%d-%H%M}\"\n",
    "\n",
    "test_data_drift_monitor.suggest_baseline(\n",
    "    job_name = baseline_job_name,\n",
    "    baseline_dataset = baseline_data,\n",
    "    dataset_format = DatasetFormat.csv(header = True),\n",
    "    output_s3_uri = baseline_results_uri,\n",
    ")"
   ]
  },
  {
   "cell_type": "code",
   "execution_count": 19,
   "metadata": {},
   "outputs": [],
   "source": [
    "baseline_job = test_data_drift_monitor.latest_baselining_job"
   ]
  },
  {
   "cell_type": "code",
   "execution_count": 21,
   "metadata": {},
   "outputs": [
    {
     "name": "stderr",
     "output_type": "stream",
     "text": [
      "/opt/conda/lib/python3.7/site-packages/ipykernel_launcher.py:1: FutureWarning: pandas.io.json.json_normalize is deprecated, use pandas.json_normalize instead\n",
      "  \"\"\"Entry point for launching an IPython kernel.\n"
     ]
    },
    {
     "data": {
      "text/plain": [
       "0           voltmean_3h\n",
       "1         rotatemean_3h\n",
       "2       pressuremean_3h\n",
       "3      vibrationmean_3h\n",
       "4             voltsd_3h\n",
       "5           rotatesd_3h\n",
       "6         pressuresd_3h\n",
       "7        vibrationsd_3h\n",
       "8          voltmean_24h\n",
       "9        rotatemean_24h\n",
       "10     pressuremean_24h\n",
       "11    vibrationmean_24h\n",
       "12           voltsd_24h\n",
       "13         rotatesd_24h\n",
       "14       pressuresd_24h\n",
       "15      vibrationsd_24h\n",
       "16          error1count\n",
       "17          error2count\n",
       "18          error3count\n",
       "19          error4count\n",
       "20          error5count\n",
       "21                comp1\n",
       "22                comp2\n",
       "23                comp3\n",
       "24                comp4\n",
       "25                  age\n",
       "26         model_model1\n",
       "27         model_model2\n",
       "28         model_model3\n",
       "29         model_model4\n",
       "Name: name, dtype: object"
      ]
     },
     "execution_count": 21,
     "metadata": {},
     "output_type": "execute_result"
    }
   ],
   "source": [
    "schema_df = pd.io.json.json_normalize(baseline_job.baseline_statistics().body_dict[\"features\"])\n",
    "schema_df.name"
   ]
  },
  {
   "cell_type": "markdown",
   "metadata": {},
   "source": [
    "### Creating Monitoring Schedule"
   ]
  },
  {
   "cell_type": "code",
   "execution_count": 14,
   "metadata": {},
   "outputs": [],
   "source": [
    "preprocessor_path = f\"s3://{bucket}/{prefix}/code/datacapture_preprocessing.py\""
   ]
  },
  {
   "cell_type": "code",
   "execution_count": 11,
   "metadata": {},
   "outputs": [],
   "source": [
    "monitor_schedule_name = \"PdM-DataDrift-Monitoring-Schedule-Header-Data\"\n",
    "endpoint_name = \"PdM-SKLearn-Pipeline-Endpoint-ReTraining\""
   ]
  },
  {
   "cell_type": "code",
   "execution_count": 16,
   "metadata": {},
   "outputs": [
    {
     "name": "stderr",
     "output_type": "stream",
     "text": [
      "INFO:sagemaker.model_monitor.model_monitoring:Creating Monitoring Schedule with name: PdM-DataDrift-Monitoring-Schedule-Header-Data\n"
     ]
    }
   ],
   "source": [
    "from sagemaker.model_monitor import CronExpressionGenerator\n",
    "\n",
    "test_data_drift_monitor.create_monitoring_schedule(\n",
    "    monitor_schedule_name = monitor_schedule_name,\n",
    "    statistics = test_data_drift_monitor.baseline_statistics(),\n",
    "    record_preprocessor_script = preprocessor_path,\n",
    "    endpoint_input = endpoint_name,\n",
    "    constraints = test_data_drift_monitor.suggested_constraints(),\n",
    "    schedule_cron_expression = CronExpressionGenerator.hourly(),\n",
    "    output_s3_uri = baseline_results_uri,\n",
    "    enable_cloudwatch_metrics = True\n",
    ")"
   ]
  },
  {
   "cell_type": "code",
   "execution_count": 9,
   "metadata": {},
   "outputs": [],
   "source": [
    "test_data_drift_monitor.monitoring_schedule_name = \"PdM-DataDrift-Monitoring-Schedule-Header-Data\""
   ]
  },
  {
   "cell_type": "markdown",
   "metadata": {},
   "source": [
    "### Invoke Endpoint"
   ]
  },
  {
   "cell_type": "code",
   "execution_count": 36,
   "metadata": {},
   "outputs": [],
   "source": [
    "from sagemaker.predictor import Predictor\n",
    "from sagemaker.serializers import CSVSerializer, JSONSerializer\n",
    "\n",
    "predictor = Predictor(\n",
    "    endpoint_name = endpoint_name, \n",
    "    sagemaker_session = sagemaker_session,\n",
    "    serializer = JSONSerializer()\n",
    ")"
   ]
  },
  {
   "cell_type": "code",
   "execution_count": 73,
   "metadata": {},
   "outputs": [],
   "source": [
    "import json\n",
    "import time\n",
    "\n",
    "for item in test_data.to_numpy()[:100]:\n",
    "    item = [item.tolist()]\n",
    "    result = predictor.predict(item)\n",
    "    time.sleep(0.5)"
   ]
  },
  {
   "cell_type": "code",
   "execution_count": 71,
   "metadata": {},
   "outputs": [
    {
     "data": {
      "text/plain": [
       "bytes"
      ]
     },
     "execution_count": 71,
     "metadata": {},
     "output_type": "execute_result"
    }
   ],
   "source": [
    "type(result)"
   ]
  },
  {
   "cell_type": "code",
   "execution_count": 74,
   "metadata": {},
   "outputs": [
    {
     "data": {
      "text/plain": [
       "2"
      ]
     },
     "execution_count": 74,
     "metadata": {},
     "output_type": "execute_result"
    }
   ],
   "source": [
    "len(test_data_drift_monitor.list_executions())"
   ]
  },
  {
   "cell_type": "code",
   "execution_count": 89,
   "metadata": {},
   "outputs": [
    {
     "data": {
      "text/plain": [
       "'Completed'"
      ]
     },
     "execution_count": 89,
     "metadata": {},
     "output_type": "execute_result"
    }
   ],
   "source": [
    "test_data_drift_monitor.list_executions()[-1].describe()[\"ProcessingJobStatus\"]"
   ]
  },
  {
   "cell_type": "code",
   "execution_count": 90,
   "metadata": {},
   "outputs": [
    {
     "data": {
      "text/plain": [
       "'CompletedWithViolations: Job completed successfully with 1 violations.'"
      ]
     },
     "execution_count": 90,
     "metadata": {},
     "output_type": "execute_result"
    }
   ],
   "source": [
    "test_data_drift_monitor.list_executions()[-1].describe()[\"ExitMessage\"]"
   ]
  },
  {
   "cell_type": "code",
   "execution_count": 92,
   "metadata": {},
   "outputs": [
    {
     "name": "stderr",
     "output_type": "stream",
     "text": [
      "/opt/conda/lib/python3.7/site-packages/ipykernel_launcher.py:2: FutureWarning: Passing a negative integer is deprecated in version 1.0 and will not be supported in future version. Instead, use None to not limit the column width.\n",
      "  \n",
      "/opt/conda/lib/python3.7/site-packages/ipykernel_launcher.py:3: FutureWarning: pandas.io.json.json_normalize is deprecated, use pandas.json_normalize instead\n",
      "  This is separate from the ipykernel package so we can avoid doing imports until\n"
     ]
    },
    {
     "data": {
      "text/html": [
       "<div>\n",
       "<style scoped>\n",
       "    .dataframe tbody tr th:only-of-type {\n",
       "        vertical-align: middle;\n",
       "    }\n",
       "\n",
       "    .dataframe tbody tr th {\n",
       "        vertical-align: top;\n",
       "    }\n",
       "\n",
       "    .dataframe thead th {\n",
       "        text-align: right;\n",
       "    }\n",
       "</style>\n",
       "<table border=\"1\" class=\"dataframe\">\n",
       "  <thead>\n",
       "    <tr style=\"text-align: right;\">\n",
       "      <th></th>\n",
       "      <th>feature_name</th>\n",
       "      <th>constraint_check_type</th>\n",
       "      <th>description</th>\n",
       "    </tr>\n",
       "  </thead>\n",
       "  <tbody>\n",
       "    <tr>\n",
       "      <th>0</th>\n",
       "      <td>Missing columns</td>\n",
       "      <td>missing_column_check</td>\n",
       "      <td>There are missing columns in current dataset. Number of columns in current dataset: 3, Number of columns in baseline constraints: 30</td>\n",
       "    </tr>\n",
       "  </tbody>\n",
       "</table>\n",
       "</div>"
      ],
      "text/plain": [
       "      feature_name constraint_check_type  \\\n",
       "0  Missing columns  missing_column_check   \n",
       "\n",
       "                                                                                                                            description  \n",
       "0  There are missing columns in current dataset. Number of columns in current dataset: 3, Number of columns in baseline constraints: 30  "
      ]
     },
     "execution_count": 92,
     "metadata": {},
     "output_type": "execute_result"
    }
   ],
   "source": [
    "violations = test_data_drift_monitor.latest_monitoring_constraint_violations()\n",
    "pd.set_option(\"display.max_colwidth\", -1)\n",
    "constraints_df = pd.io.json.json_normalize(violations.body_dict[\"violations\"])\n",
    "constraints_df.head(10)"
   ]
  },
  {
   "cell_type": "code",
   "execution_count": 94,
   "metadata": {},
   "outputs": [
    {
     "data": {
      "text/html": [
       "<div>\n",
       "<style scoped>\n",
       "    .dataframe tbody tr th:only-of-type {\n",
       "        vertical-align: middle;\n",
       "    }\n",
       "\n",
       "    .dataframe tbody tr th {\n",
       "        vertical-align: top;\n",
       "    }\n",
       "\n",
       "    .dataframe thead th {\n",
       "        text-align: right;\n",
       "    }\n",
       "</style>\n",
       "<table border=\"1\" class=\"dataframe\">\n",
       "  <thead>\n",
       "    <tr style=\"text-align: right;\">\n",
       "      <th></th>\n",
       "      <th>voltmean_3h</th>\n",
       "      <th>rotatemean_3h</th>\n",
       "      <th>pressuremean_3h</th>\n",
       "      <th>vibrationmean_3h</th>\n",
       "      <th>voltsd_3h</th>\n",
       "      <th>rotatesd_3h</th>\n",
       "      <th>pressuresd_3h</th>\n",
       "      <th>vibrationsd_3h</th>\n",
       "      <th>voltmean_24h</th>\n",
       "      <th>rotatemean_24h</th>\n",
       "      <th>...</th>\n",
       "      <th>error5count</th>\n",
       "      <th>comp1</th>\n",
       "      <th>comp2</th>\n",
       "      <th>comp3</th>\n",
       "      <th>comp4</th>\n",
       "      <th>age</th>\n",
       "      <th>model_model1</th>\n",
       "      <th>model_model2</th>\n",
       "      <th>model_model3</th>\n",
       "      <th>model_model4</th>\n",
       "    </tr>\n",
       "  </thead>\n",
       "  <tbody>\n",
       "    <tr>\n",
       "      <th>0</th>\n",
       "      <td>170.301017</td>\n",
       "      <td>449.036995</td>\n",
       "      <td>94.805205</td>\n",
       "      <td>40.816797</td>\n",
       "      <td>11.061667</td>\n",
       "      <td>58.425055</td>\n",
       "      <td>4.931305</td>\n",
       "      <td>2.428740</td>\n",
       "      <td>176.844376</td>\n",
       "      <td>456.598107</td>\n",
       "      <td>...</td>\n",
       "      <td>0.0</td>\n",
       "      <td>28.875</td>\n",
       "      <td>13.875</td>\n",
       "      <td>118.875</td>\n",
       "      <td>28.875</td>\n",
       "      <td>18</td>\n",
       "      <td>0</td>\n",
       "      <td>0</td>\n",
       "      <td>1</td>\n",
       "      <td>0</td>\n",
       "    </tr>\n",
       "    <tr>\n",
       "      <th>1</th>\n",
       "      <td>165.339972</td>\n",
       "      <td>435.660354</td>\n",
       "      <td>103.351320</td>\n",
       "      <td>31.892462</td>\n",
       "      <td>10.717864</td>\n",
       "      <td>26.009485</td>\n",
       "      <td>22.071933</td>\n",
       "      <td>6.020669</td>\n",
       "      <td>176.141499</td>\n",
       "      <td>453.900566</td>\n",
       "      <td>...</td>\n",
       "      <td>0.0</td>\n",
       "      <td>29.000</td>\n",
       "      <td>14.000</td>\n",
       "      <td>119.000</td>\n",
       "      <td>29.000</td>\n",
       "      <td>18</td>\n",
       "      <td>0</td>\n",
       "      <td>0</td>\n",
       "      <td>1</td>\n",
       "      <td>0</td>\n",
       "    </tr>\n",
       "    <tr>\n",
       "      <th>2</th>\n",
       "      <td>183.752875</td>\n",
       "      <td>463.058640</td>\n",
       "      <td>109.525083</td>\n",
       "      <td>41.945037</td>\n",
       "      <td>9.369264</td>\n",
       "      <td>43.646584</td>\n",
       "      <td>10.859804</td>\n",
       "      <td>9.395067</td>\n",
       "      <td>175.764202</td>\n",
       "      <td>451.753148</td>\n",
       "      <td>...</td>\n",
       "      <td>0.0</td>\n",
       "      <td>29.125</td>\n",
       "      <td>14.125</td>\n",
       "      <td>119.125</td>\n",
       "      <td>29.125</td>\n",
       "      <td>18</td>\n",
       "      <td>0</td>\n",
       "      <td>0</td>\n",
       "      <td>1</td>\n",
       "      <td>0</td>\n",
       "    </tr>\n",
       "    <tr>\n",
       "      <th>3</th>\n",
       "      <td>177.866822</td>\n",
       "      <td>506.692032</td>\n",
       "      <td>98.745260</td>\n",
       "      <td>39.861149</td>\n",
       "      <td>16.596090</td>\n",
       "      <td>38.086352</td>\n",
       "      <td>10.410456</td>\n",
       "      <td>5.418325</td>\n",
       "      <td>175.352459</td>\n",
       "      <td>455.124136</td>\n",
       "      <td>...</td>\n",
       "      <td>0.0</td>\n",
       "      <td>29.250</td>\n",
       "      <td>14.250</td>\n",
       "      <td>119.250</td>\n",
       "      <td>29.250</td>\n",
       "      <td>18</td>\n",
       "      <td>0</td>\n",
       "      <td>0</td>\n",
       "      <td>1</td>\n",
       "      <td>0</td>\n",
       "    </tr>\n",
       "    <tr>\n",
       "      <th>4</th>\n",
       "      <td>167.471524</td>\n",
       "      <td>425.963281</td>\n",
       "      <td>111.996389</td>\n",
       "      <td>39.396999</td>\n",
       "      <td>9.015089</td>\n",
       "      <td>63.342755</td>\n",
       "      <td>4.648154</td>\n",
       "      <td>6.365146</td>\n",
       "      <td>174.712824</td>\n",
       "      <td>451.436346</td>\n",
       "      <td>...</td>\n",
       "      <td>0.0</td>\n",
       "      <td>29.375</td>\n",
       "      <td>14.375</td>\n",
       "      <td>119.375</td>\n",
       "      <td>29.375</td>\n",
       "      <td>18</td>\n",
       "      <td>0</td>\n",
       "      <td>0</td>\n",
       "      <td>1</td>\n",
       "      <td>0</td>\n",
       "    </tr>\n",
       "  </tbody>\n",
       "</table>\n",
       "<p>5 rows × 30 columns</p>\n",
       "</div>"
      ],
      "text/plain": [
       "   voltmean_3h  rotatemean_3h  pressuremean_3h  vibrationmean_3h  voltsd_3h  \\\n",
       "0  170.301017   449.036995     94.805205        40.816797         11.061667   \n",
       "1  165.339972   435.660354     103.351320       31.892462         10.717864   \n",
       "2  183.752875   463.058640     109.525083       41.945037         9.369264    \n",
       "3  177.866822   506.692032     98.745260        39.861149         16.596090   \n",
       "4  167.471524   425.963281     111.996389       39.396999         9.015089    \n",
       "\n",
       "   rotatesd_3h  pressuresd_3h  vibrationsd_3h  voltmean_24h  rotatemean_24h  \\\n",
       "0  58.425055    4.931305       2.428740        176.844376    456.598107       \n",
       "1  26.009485    22.071933      6.020669        176.141499    453.900566       \n",
       "2  43.646584    10.859804      9.395067        175.764202    451.753148       \n",
       "3  38.086352    10.410456      5.418325        175.352459    455.124136       \n",
       "4  63.342755    4.648154       6.365146        174.712824    451.436346       \n",
       "\n",
       "   ...  error5count   comp1   comp2    comp3   comp4  age  model_model1  \\\n",
       "0  ...  0.0          28.875  13.875  118.875  28.875  18   0              \n",
       "1  ...  0.0          29.000  14.000  119.000  29.000  18   0              \n",
       "2  ...  0.0          29.125  14.125  119.125  29.125  18   0              \n",
       "3  ...  0.0          29.250  14.250  119.250  29.250  18   0              \n",
       "4  ...  0.0          29.375  14.375  119.375  29.375  18   0              \n",
       "\n",
       "   model_model2  model_model3  model_model4  \n",
       "0  0             1             0             \n",
       "1  0             1             0             \n",
       "2  0             1             0             \n",
       "3  0             1             0             \n",
       "4  0             1             0             \n",
       "\n",
       "[5 rows x 30 columns]"
      ]
     },
     "execution_count": 94,
     "metadata": {},
     "output_type": "execute_result"
    }
   ],
   "source": [
    "test_data.head()"
   ]
  },
  {
   "cell_type": "code",
   "execution_count": null,
   "metadata": {},
   "outputs": [],
   "source": []
  }
 ],
 "metadata": {
  "instance_type": "ml.t3.medium",
  "kernelspec": {
   "display_name": "base",
   "language": "python",
   "name": "python3"
  },
  "language_info": {
   "codemirror_mode": {
    "name": "ipython",
    "version": 3
   },
   "file_extension": ".py",
   "mimetype": "text/x-python",
   "name": "python",
   "nbconvert_exporter": "python",
   "pygments_lexer": "ipython3",
   "version": "3.9.13 (main, Aug 25 2022, 23:51:50) [MSC v.1916 64 bit (AMD64)]"
  },
  "vscode": {
   "interpreter": {
    "hash": "746db0bae461d52c25b260aeab0d95c56770e76d1516a3abebd41cfaac0d13e8"
   }
  }
 },
 "nbformat": 4,
 "nbformat_minor": 4
}
